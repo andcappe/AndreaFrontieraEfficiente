{
  "nbformat": 4,
  "nbformat_minor": 0,
  "metadata": {
    "colab": {
      "provenance": [],
      "authorship_tag": "ABX9TyOHjAT2Y6z1oHMTxe0g6jsM",
      "include_colab_link": true
    },
    "kernelspec": {
      "name": "python3",
      "display_name": "Python 3"
    },
    "language_info": {
      "name": "python"
    }
  },
  "cells": [
    {
      "cell_type": "markdown",
      "metadata": {
        "id": "view-in-github",
        "colab_type": "text"
      },
      "source": [
        "<a href=\"https://colab.research.google.com/github/andcappe/AndreaFrontieraEfficiente/blob/main/DOWNLOAD_DATA_FROM_YAHOO.ipynb\" target=\"_parent\"><img src=\"https://colab.research.google.com/assets/colab-badge.svg\" alt=\"Open In Colab\"/></a>"
      ]
    },
    {
      "cell_type": "code",
      "execution_count": 42,
      "metadata": {
        "colab": {
          "base_uri": "https://localhost:8080/"
        },
        "id": "1mAxGl_H0gSx",
        "outputId": "e78ee632-d126-4dba-fc50-365d31d86af2"
      },
      "outputs": [
        {
          "output_type": "stream",
          "name": "stdout",
          "text": [
            "Requirement already satisfied: pandas in /usr/local/lib/python3.10/dist-packages (2.2.2)\n",
            "Requirement already satisfied: numpy>=1.22.4 in /usr/local/lib/python3.10/dist-packages (from pandas) (1.26.4)\n",
            "Requirement already satisfied: python-dateutil>=2.8.2 in /usr/local/lib/python3.10/dist-packages (from pandas) (2.8.2)\n",
            "Requirement already satisfied: pytz>=2020.1 in /usr/local/lib/python3.10/dist-packages (from pandas) (2024.2)\n",
            "Requirement already satisfied: tzdata>=2022.7 in /usr/local/lib/python3.10/dist-packages (from pandas) (2024.2)\n",
            "Requirement already satisfied: six>=1.5 in /usr/local/lib/python3.10/dist-packages (from python-dateutil>=2.8.2->pandas) (1.16.0)\n",
            "Requirement already satisfied: pandas-datareader in /usr/local/lib/python3.10/dist-packages (0.10.0)\n",
            "Requirement already satisfied: lxml in /usr/local/lib/python3.10/dist-packages (from pandas-datareader) (5.3.0)\n",
            "Requirement already satisfied: pandas>=0.23 in /usr/local/lib/python3.10/dist-packages (from pandas-datareader) (2.2.2)\n",
            "Requirement already satisfied: requests>=2.19.0 in /usr/local/lib/python3.10/dist-packages (from pandas-datareader) (2.32.3)\n",
            "Requirement already satisfied: numpy>=1.22.4 in /usr/local/lib/python3.10/dist-packages (from pandas>=0.23->pandas-datareader) (1.26.4)\n",
            "Requirement already satisfied: python-dateutil>=2.8.2 in /usr/local/lib/python3.10/dist-packages (from pandas>=0.23->pandas-datareader) (2.8.2)\n",
            "Requirement already satisfied: pytz>=2020.1 in /usr/local/lib/python3.10/dist-packages (from pandas>=0.23->pandas-datareader) (2024.2)\n",
            "Requirement already satisfied: tzdata>=2022.7 in /usr/local/lib/python3.10/dist-packages (from pandas>=0.23->pandas-datareader) (2024.2)\n",
            "Requirement already satisfied: charset-normalizer<4,>=2 in /usr/local/lib/python3.10/dist-packages (from requests>=2.19.0->pandas-datareader) (3.4.0)\n",
            "Requirement already satisfied: idna<4,>=2.5 in /usr/local/lib/python3.10/dist-packages (from requests>=2.19.0->pandas-datareader) (3.10)\n",
            "Requirement already satisfied: urllib3<3,>=1.21.1 in /usr/local/lib/python3.10/dist-packages (from requests>=2.19.0->pandas-datareader) (2.2.3)\n",
            "Requirement already satisfied: certifi>=2017.4.17 in /usr/local/lib/python3.10/dist-packages (from requests>=2.19.0->pandas-datareader) (2024.8.30)\n",
            "Requirement already satisfied: six>=1.5 in /usr/local/lib/python3.10/dist-packages (from python-dateutil>=2.8.2->pandas>=0.23->pandas-datareader) (1.16.0)\n",
            "Requirement already satisfied: yfinance==0.2.40 in /usr/local/lib/python3.10/dist-packages (0.2.40)\n",
            "Requirement already satisfied: pandas>=1.3.0 in /usr/local/lib/python3.10/dist-packages (from yfinance==0.2.40) (2.2.2)\n",
            "Requirement already satisfied: numpy>=1.16.5 in /usr/local/lib/python3.10/dist-packages (from yfinance==0.2.40) (1.26.4)\n",
            "Requirement already satisfied: requests>=2.31 in /usr/local/lib/python3.10/dist-packages (from yfinance==0.2.40) (2.32.3)\n",
            "Requirement already satisfied: multitasking>=0.0.7 in /usr/local/lib/python3.10/dist-packages (from yfinance==0.2.40) (0.0.11)\n",
            "Requirement already satisfied: lxml>=4.9.1 in /usr/local/lib/python3.10/dist-packages (from yfinance==0.2.40) (5.3.0)\n",
            "Requirement already satisfied: platformdirs>=2.0.0 in /usr/local/lib/python3.10/dist-packages (from yfinance==0.2.40) (4.3.6)\n",
            "Requirement already satisfied: pytz>=2022.5 in /usr/local/lib/python3.10/dist-packages (from yfinance==0.2.40) (2024.2)\n",
            "Requirement already satisfied: frozendict>=2.3.4 in /usr/local/lib/python3.10/dist-packages (from yfinance==0.2.40) (2.4.6)\n",
            "Requirement already satisfied: peewee>=3.16.2 in /usr/local/lib/python3.10/dist-packages (from yfinance==0.2.40) (3.17.8)\n",
            "Requirement already satisfied: beautifulsoup4>=4.11.1 in /usr/local/lib/python3.10/dist-packages (from yfinance==0.2.40) (4.12.3)\n",
            "Requirement already satisfied: html5lib>=1.1 in /usr/local/lib/python3.10/dist-packages (from yfinance==0.2.40) (1.1)\n",
            "Requirement already satisfied: soupsieve>1.2 in /usr/local/lib/python3.10/dist-packages (from beautifulsoup4>=4.11.1->yfinance==0.2.40) (2.6)\n",
            "Requirement already satisfied: six>=1.9 in /usr/local/lib/python3.10/dist-packages (from html5lib>=1.1->yfinance==0.2.40) (1.16.0)\n",
            "Requirement already satisfied: webencodings in /usr/local/lib/python3.10/dist-packages (from html5lib>=1.1->yfinance==0.2.40) (0.5.1)\n",
            "Requirement already satisfied: python-dateutil>=2.8.2 in /usr/local/lib/python3.10/dist-packages (from pandas>=1.3.0->yfinance==0.2.40) (2.8.2)\n",
            "Requirement already satisfied: tzdata>=2022.7 in /usr/local/lib/python3.10/dist-packages (from pandas>=1.3.0->yfinance==0.2.40) (2024.2)\n",
            "Requirement already satisfied: charset-normalizer<4,>=2 in /usr/local/lib/python3.10/dist-packages (from requests>=2.31->yfinance==0.2.40) (3.4.0)\n",
            "Requirement already satisfied: idna<4,>=2.5 in /usr/local/lib/python3.10/dist-packages (from requests>=2.31->yfinance==0.2.40) (3.10)\n",
            "Requirement already satisfied: urllib3<3,>=1.21.1 in /usr/local/lib/python3.10/dist-packages (from requests>=2.31->yfinance==0.2.40) (2.2.3)\n",
            "Requirement already satisfied: certifi>=2017.4.17 in /usr/local/lib/python3.10/dist-packages (from requests>=2.31->yfinance==0.2.40) (2024.8.30)\n"
          ]
        }
      ],
      "source": [
        "#############################################\n",
        "# Installo le librerie necessarie           #\n",
        "#############################################\n",
        "!pip install pandas\n",
        "!pip install pandas-datareader\n",
        "!pip install yfinance==0.2.40\n"
      ]
    },
    {
      "cell_type": "code",
      "source": [
        "#############################################\n",
        "# Importo le librerie e faccio un override  #\n",
        "# di yfinance altrimenti non scarica i dati #\n",
        "#############################################\n",
        "import pandas as pd\n",
        "from pandas_datareader import data as web\n",
        "import matplotlib\n",
        "from datetime import datetime, timedelta # Import the datetime class from the datetime module\n",
        "#import datetime as datetime\n",
        "import time\n",
        "import yfinance as yf\n",
        "yf.pdr_override()\n"
      ],
      "metadata": {
        "id": "MS9o2u65mqsF"
      },
      "execution_count": 43,
      "outputs": []
    },
    {
      "cell_type": "code",
      "source": [
        "#############################################\n",
        "# Importo libreria e leggo un file excel    #\n",
        "# con i dati su tre colonne                 #\n",
        "# SIMBOLO DESCRIZIONE VALUTA                #\n",
        "# creo un dataframe chiamato valid_df       #\n",
        "#############################################\n",
        "import os\n",
        "try:\n",
        "\n",
        "    cartella_dati = '/content/'\n",
        "    nome_file = 'indici.xlsx'\n",
        "    percorso_completo = os.path.join(cartella_dati, nome_file)\n",
        "    valid_df = pd.read_excel(percorso_completo)\n",
        "except FileNotFoundError:\n",
        "    print(\"File not found. Please check the file path and try again.\")\n",
        "    # You can add more error handling logic here, like asking the user for the correct path"
      ],
      "metadata": {
        "id": "KBWaMMUk1OpZ"
      },
      "execution_count": 44,
      "outputs": []
    },
    {
      "cell_type": "markdown",
      "source": [
        "# Nuova sezione"
      ],
      "metadata": {
        "id": "9VkyMkHF-gN5"
      }
    },
    {
      "cell_type": "code",
      "source": [
        "#############################################\n",
        "# Elimino i NAN                             #\n",
        "# elimino le colonne senza intestazione     #\n",
        "#############################################\n",
        "valid_df = valid_df.dropna()\n",
        "invalid_cols = [i for i in valid_df.columns if i.startswith('Unnamed')]\n",
        "        # Verifica colonne senza intestazione\n",
        "valid_df =valid_df.drop(columns=invalid_cols)\n"
      ],
      "metadata": {
        "id": "E_BQjArsDOcs"
      },
      "execution_count": 50,
      "outputs": []
    },
    {
      "cell_type": "markdown",
      "source": [
        "# Nuova sezione"
      ],
      "metadata": {
        "id": "0tgCdHVr3gff"
      }
    },
    {
      "cell_type": "code",
      "source": [
        "\n",
        "df_dict = valid_df.set_index(valid_df.columns[0]).to_dict()[valid_df.columns[1]]\n",
        "#crea dizionario tikers descrizione\n"
      ],
      "metadata": {
        "id": "SzkJ-sfsJ3bz"
      },
      "execution_count": 46,
      "outputs": []
    },
    {
      "cell_type": "code",
      "source": [
        "ticker_tup = list(df_dict.items())\n",
        "\n"
      ],
      "metadata": {
        "id": "ljhhueUbKT4V"
      },
      "execution_count": 47,
      "outputs": []
    },
    {
      "cell_type": "code",
      "source": [
        "#############################################\n",
        "# Imposto data iniziale                     #\n",
        "# Imposto data finale                       #\n",
        "# Imposto una lista di SIMBOLI              #\n",
        "# Imposto timeframe                         #\n",
        "#############################################\n",
        "end_date  = datetime.today()\n",
        "start_date = end_date - timedelta(days=900)\n",
        "\n",
        "temp = start_date\n",
        "temp1 = end_date\n",
        "temp3 = list(valid_df.get('SIMBOLO'))\n",
        "temp2 ='1d'\n",
        "\n"
      ],
      "metadata": {
        "id": "LrooocfjFN4J"
      },
      "execution_count": 48,
      "outputs": []
    },
    {
      "cell_type": "code",
      "source": [
        "#############################################\n",
        "# Imposto data iniziale                     #\n",
        "# Imposto data finale                       #\n",
        "# Imposto una lista di SIMBOLI              #\n",
        "# Imposto timeframe                         #\n",
        "#############################################\n",
        "#tup=(valid_df)\n",
        "\n"
      ],
      "metadata": {
        "id": "2lqbTjOP5OSn",
        "colab": {
          "base_uri": "https://localhost:8080/"
        },
        "outputId": "a14326ea-4e0c-46de-88bd-1af0f5158d86"
      },
      "execution_count": 32,
      "outputs": [
        {
          "output_type": "stream",
          "name": "stdout",
          "text": [
            "         SIMBOLO                DESCRIZIONE VALUTA\n",
            "0        SUAS.MI           MSCI USA SRI USD    EUR\n",
            "1        SUSW.MI      MSCI World SRI EUR MI    EUR\n",
            "2   0P000026CD.L  PURISIMA TOTAL RETURN EUR    GBP\n",
            "3           ^DJI             DJI INDUSTRIAL    USD\n",
            "4           ^DJU                DJU UTILITY    USD\n",
            "5       CSNDX.SW             ETF NASDAQ 100    USD\n",
            "6          ^GSPC                     S&P500    USD\n",
            "7            IWV           ETF RUSSELL 3000    USD\n",
            "8            IWX   ETF RUSSELL TOP200 VALUE    USD\n",
            "9            IWY  ETF RUSSELL TOP200 GROWTH    USD\n",
            "10           IWB           ETF RUSSELL 1000    USD\n",
            "11           IWD     ETF RUSSELL 1000 VALUE    USD\n",
            "12           IWF     ETF RUSSELL 1000 GROWT    USD\n",
            "13           IWM           ETF RUSSELL 2000    USD\n",
            "14           IWN     ETF RUSSELL 2000 VALUE    USD\n",
            "15           IWO     ETF RUSSELL 2000 GROWT    USD\n",
            "16           IWR                ETF MID CAP    USD\n",
            "17           IWS          ETF MID CAP VALUE    USD\n",
            "18           IWP          ETF MID CAP GROWT    USD\n",
            "19           IWC             ETF MICRO CAPS    USD\n",
            "20       IDSE.AS        MSCI Europe SRI USD    USD\n",
            "21       IESE.SW        MSCI Europe SRI EUR    EUR\n",
            "22        SGLD.L              PHYSICAL GOLD    USD\n",
            "23        BRND.L            BRENT CRUDE OIL    USD\n",
            "24        WTID.L              WTI CRUDE OIL    USD\n",
            "25          NG=F         NATURAL GAS FUTURE    USD\n",
            "26        VHYL.L          VANGUARD DIVIDEND    USD\n",
            "27       ISPA.DE            ISHARE DIVIDEND    USD\n",
            "28        GLDV.L              SPDR DIVIDEND    USD\n",
            "29        VFEM.L          VANGUARD EMERGING    USD\n"
          ]
        }
      ]
    },
    {
      "cell_type": "code",
      "source": [],
      "metadata": {
        "id": "LDs9q5B5GzMP"
      },
      "execution_count": null,
      "outputs": []
    },
    {
      "cell_type": "code",
      "source": [
        "#############################################\n",
        "# Devo verificare cosa faccia isin          #\n",
        "# Ceo una tabella di informazioni           #\n",
        "# dalla quale estrapoliamo le colonne       #\n",
        "# aggiungiamo ai tickers le valute          #\n",
        "# creo una lista tickers + valute           #\n",
        "#############################################\n",
        "df2 = valid_df[valid_df['SIMBOLO'].isin(temp3)]\n",
        "\n",
        "simbol=df2['SIMBOLO']\n",
        "# Creo una serie con i simboli\n",
        "myvalues=df2['DESCRIZIONE']\n",
        "# Creo una serie con la descrizione\n",
        "val=df2['VALUTA']\n",
        "#Creo una serie con le valute\n",
        "valute =['EURUSD=X', 'EURGBP=X']\n",
        "# Aggiungo i cambi da scaricare per convertire i valori in valuat\n",
        "tick_val = simbol.tolist() + valute\n"
      ],
      "metadata": {
        "id": "74Waa_w2UGAs"
      },
      "execution_count": 33,
      "outputs": []
    },
    {
      "cell_type": "code",
      "source": [
        "#############################################\n",
        "# Creo una funzione per scaricare dati      #\n",
        "# Uso una libreria di yfinance              #\n",
        "# con l'override la uso con pandas          #\n",
        "# uso tickval tickers + valute per i dati   #\n",
        "# scarico i dati e faccio interpolazione    #\n",
        "# per eliminare i NAN                       #\n",
        "#############################################\n",
        "def get_web_data_user_input(tickers_to_use = '', startdate = '', enddate = '', interval = ''):\n",
        "\n",
        "    try:\n",
        "\n",
        "        data = web.get_data_yahoo(tickers_to_use, start = startdate,\n",
        "                                   end = enddate, interval = interval, group_by='ticker')  #, interval = interval\n",
        "\n",
        "\n",
        "\n",
        "        return data\n",
        "    except Exception as err:\n",
        "        return f'Error getting data from Yahoo finance {err}'\n",
        "\n",
        "web_data_df = get_web_data_user_input(tickers_to_use = tick_val , startdate = temp , enddate = temp1, interval = temp2)\n",
        "web_data_df=web_data_df.interpolate(method = 'linear')\n",
        "\n"
      ],
      "metadata": {
        "id": "zzmXTFdjVY93",
        "colab": {
          "base_uri": "https://localhost:8080/"
        },
        "outputId": "c83a82e6-a2d3-4658-c66f-8c886ad81b26"
      },
      "execution_count": 34,
      "outputs": [
        {
          "output_type": "stream",
          "name": "stderr",
          "text": [
            "[*********************100%%**********************]  32 of 32 completed\n"
          ]
        }
      ]
    },
    {
      "cell_type": "code",
      "source": [
        "#############################################\n",
        "# Aggiungo le colonne dell'EURO             #\n",
        "# converto i prezzi dei titoli in euro      #\n",
        "# elimino poi le colonne con le valute      #\n",
        "#############################################\n",
        "if tup.shape[1]==3:\n",
        "\n",
        "            web_data_df['EUREUR=X', ('Open')]=1\n",
        "            web_data_df['EUREUR=X', ('High')]=1\n",
        "            web_data_df['EUREUR=X', ('Low')]=1\n",
        "            web_data_df['EUREUR=X', ('Close')]=1\n",
        "            web_data_df['EUREUR=X', ('Adj Close')]=1\n",
        "            web_data_df['EUREUR=X', ('Volume')]=1\n",
        "            # Aggiungo una colonna del cambio euro euro\n",
        "            res = {simbol.tolist()[i]: val.tolist()[i] for i in range(len(simbol.tolist()))}\n",
        "            # Creo un dizionario ticker simbolo : valuta\n",
        "            for k,v in res.items():\n",
        "                if v == 'USD':\n",
        "                    web_data_df[(k, 'Adj Close')]=web_data_df[k]['Adj Close']/web_data_df['EURUSD=X']['Adj Close']\n",
        "\n",
        "                elif v == 'GBP':\n",
        "                    web_data_df[(k, 'Adj Close')]=web_data_df[k]['Adj Close']/web_data_df['EURGBP=X']['Adj Close']\n",
        "\n",
        "                else:\n",
        "                    web_data_df[(k, 'Adj Close')]=web_data_df[k]['Adj Close']/web_data_df['EUREUR=X']['Adj Close']\n",
        "        # Applico i tassi di cambio\n",
        "else:\n",
        "     pass\n",
        "web_data_df = web_data_df.get(temp3)\n"
      ],
      "metadata": {
        "id": "ijnxA7m-VWYT",
        "collapsed": true
      },
      "execution_count": 54,
      "outputs": []
    },
    {
      "cell_type": "code",
      "source": [
        "#############################################\n",
        "# Esporto il file excel                     #\n",
        "#############################################\n",
        "percorso =\"dati_matlab.xlsx\"\n",
        "web_data_df.to_excel(percorso, sheet_name=\"Dataset\", index=True)"
      ],
      "metadata": {
        "id": "hIZrmIT8xHet"
      },
      "execution_count": 29,
      "outputs": []
    },
    {
      "cell_type": "markdown",
      "source": [],
      "metadata": {
        "id": "dt0b5li7xI0y"
      }
    }
  ]
}